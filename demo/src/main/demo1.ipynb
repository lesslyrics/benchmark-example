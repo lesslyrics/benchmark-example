{
 "cells": [
  {
   "cell_type": "code",
   "metadata": {
    "collapsed": true,
    "ExecuteTime": {
     "end_time": "2025-09-16T19:33:37.040626Z",
     "start_time": "2025-09-16T19:33:34.828522Z"
    }
   },
   "source": [
    "val promptText = \"\"\n",
    "val promptObject = {}//Prompt(promptText)\n",
    "\n",
    "//compiling the prompt\n",
    "val diffId = \"84\"\n",
    "val repo = \"apple/swift\"\n",
    "val sha = \"e8454ab8ab87afa92b999ef004477000ee60da41\"\n",
    "val time = \"2018-07-18T21:50:40Z\"\n",
    "val diff = \"mmm a / lib / Sema / TypeCheckDecl . cpp <nl> ppp b / lib / Sema / TypeCheckDecl . cpp <nl> static void finalizeType ( TypeChecker & TC , NominalTypeDecl * nominal ) { <nl> <nl> TC . validateDecl ( VD ) ; <nl> <nl> + TC . requestMemberLayout ( VD ) ; <nl> + <nl> / / The only thing left to do is synthesize storage for lazy variables . <nl> auto * prop = dyn_cast < VarDecl > ( D ) ; <nl> if ( ! prop ) <nl>\\n\"\n",
    "\n",
    "//promptObject.compile(diffId, repo, sha, time, diff)"
   ],
   "outputs": [],
   "execution_count": 1
  },
  {
   "metadata": {
    "ExecuteTime": {
     "end_time": "2025-09-16T19:33:37.109999Z",
     "start_time": "2025-09-16T19:33:37.042371Z"
    }
   },
   "cell_type": "code",
   "source": [
    "//generating output\n",
    "val output = listOf(\"\")//promptObject.execute()"
   ],
   "outputs": [],
   "execution_count": 2
  },
  {
   "metadata": {
    "ExecuteTime": {
     "end_time": "2025-09-16T19:36:15.499152Z",
     "start_time": "2025-09-16T19:36:15.418009Z"
    }
   },
   "cell_type": "code",
   "source": [
    "val expectedOuput = \"\"\n",
    "val bleu = MetricsCalculator.bleu(output, listOf(expectedOuput))"
   ],
   "outputs": [],
   "execution_count": 3
  },
  {
   "metadata": {},
   "cell_type": "markdown",
   "source": [
    "#### Compiling and executing prompt object\n",
    "<br/>? Show substituted prompt\n",
    "<br/> Show execution response\n",
    "<br/> Run metrics\n",
    "<br/>This is how you can check prompt outputs and build dataset for testing"
   ]
  },
  {
   "metadata": {
    "ExecuteTime": {
     "end_time": "2025-09-16T19:29:02.499298Z",
     "start_time": "2025-09-16T19:29:02.382559Z"
    }
   },
   "cell_type": "code",
   "source": "bleu",
   "outputs": [],
   "execution_count": 4
  }
 ],
 "metadata": {
  "kernelspec": {
   "display_name": "Kotlin",
   "language": "kotlin",
   "name": "kotlin"
  },
  "language_info": {
   "name": "kotlin",
   "version": "2.2.20-Beta2",
   "mimetype": "text/x-kotlin",
   "file_extension": ".kt",
   "pygments_lexer": "kotlin",
   "codemirror_mode": "text/x-kotlin",
   "nbconvert_exporter": ""
  },
  "ktnbPluginMetadata": {
   "projectDependencies": [
    "demo.main"
   ],
   "projectLibraries": false
  }
 },
 "nbformat": 4,
 "nbformat_minor": 0
}

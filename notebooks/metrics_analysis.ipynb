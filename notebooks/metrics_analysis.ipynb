{
 "cells": [
  {
   "metadata": {},
   "cell_type": "markdown",
   "source": [
    "# Metrics Analysis\n",
    "This Kotlin notebook visualizes BLEU, ROUGE-L, METEOR, TokenF1, and chrF metrics from the CSV exported by the app.\n",
    "\n",
    "Instructions:\n",
    "1. Generate the CSV from the JSONL results: run the app with CSV mode. For example:\n",
    "   - From IDE: Run Main with program arguments: `--csv src/javabest_no_select.jsonl metrics.csv`\n",
    "   - Or from command line (if Gradle is set up): `./gradlew run --args=\"--csv src/javabest_no_select.jsonl metrics.csv\"`\n",
    "2. Place `metrics.csv` in the project root (or adjust the path below).\n"
   ],
   "id": "ca05510414eb6d3d"
  },
  {
   "metadata": {
    "jupyter": {
     "is_executing": true
    }
   },
   "cell_type": "code",
   "source": [
    "// This cell loads the plotting library for Kotlin Notebook. If you run in Kotlin Jupyter, this enables Lets-Plot.\n",
    "%use lets-plot\n"
   ],
   "id": "36b17774c56fb2d6",
   "outputs": [],
   "execution_count": null
  },
  {
   "metadata": {},
   "cell_type": "code",
   "outputs": [],
   "execution_count": null,
   "source": [
    "import java.io.File\n",
    "\n",
    "data class Row(val index:Int, val BLEU:Double, val ROUGE_L:Double, val METEOR:Double, val TokenF1:Double, val chrF:Double)\n",
    "\n",
    "fun readCsv(path:String): List<Row> {\n",
    "    val f = File(path)\n",
    "    require(f.exists()) { \"CSV not found at: $path. Please run the app in --csv mode to generate it.\" }\n",
    "    return f.readLines().drop(1)\n",
    "        .filter { it.isNotBlank() }\n",
    "        .map { line ->\n",
    "            val parts = line.split(',')\n",
    "            Row(parts[0].toInt(), parts[1].toDouble(), parts[2].toDouble(), parts[3].toDouble(), parts[4].toDouble(), parts[5].toDouble())\n",
    "        }\n",
    "}\n",
    "\n",
    "val csvPath = \"metrics.csv\" // change if needed, e.g., \"src/metrics.csv\"\n",
    "val rows = readCsv(csvPath)\n",
    "println(\"Loaded ${rows.size} rows from $csvPath\")\n"
   ],
   "id": "a23487349a1873a8"
  },
  {
   "metadata": {},
   "cell_type": "code",
   "outputs": [],
   "execution_count": null,
   "source": [
    "import org.jetbrains.letsPlot.*\n",
    "import org.jetbrains.letsPlot.geom.*\n",
    "import org.jetbrains.letsPlot.label.*\n",
    "import org.jetbrains.letsPlot.themes.*\n",
    "\n",
    "val df = mapOf(\n",
    "    \"BLEU\" to rows.map { it.BLEU },\n",
    "    \"ROUGE_L\" to rows.map { it.ROUGE_L },\n",
    "    \"METEOR\" to rows.map { it.METEOR },\n",
    "    \"TokenF1\" to rows.map { it.TokenF1 },\n",
    "    \"chrF\" to rows.map { it.chrF }\n",
    ")\n",
    "\n",
    "fun avg(xs: List<Double>) = if (xs.isEmpty()) 0.0 else xs.sum() / xs.size\n",
    "println(\"Averages:\\nBLEU=${avg(df[\"BLEU\"]!!)}\\nROUGE_L=${avg(df[\"ROUGE_L\"]!!)}\\nMETEOR=${avg(df[\"METEOR\"]!!)}\\nTokenF1=${avg(df[\"TokenF1\"]!!)}\\nchrF=${avg(df[\"chrF\"]!!)}\")\n"
   ],
   "id": "60af26998f140ffb"
  },
  {
   "metadata": {},
   "cell_type": "markdown",
   "source": [
    "## Histograms\n",
    "Run each cell to see the distributions.\n"
   ],
   "id": "73d6a8c2a97029cb"
  },
  {
   "metadata": {},
   "cell_type": "code",
   "outputs": [],
   "execution_count": null,
   "source": [
    "val pBleu = ggplot(df) + geomHistogram { x = \"BLEU\" } + ggtitle(\"BLEU distribution\")\n",
    "pBleu\n"
   ],
   "id": "c1dfa05370a9389d"
  },
  {
   "metadata": {},
   "cell_type": "code",
   "outputs": [],
   "execution_count": null,
   "source": [
    "val pRouge = ggplot(df) + geomHistogram { x = \"ROUGE_L\" } + ggtitle(\"ROUGE-L distribution\")\n",
    "pRouge\n"
   ],
   "id": "6a74cb6bff08f1af"
  },
  {
   "metadata": {},
   "cell_type": "code",
   "outputs": [],
   "execution_count": null,
   "source": [
    "val pMeteor = ggplot(df) + geomHistogram { x = \"METEOR\" } + ggtitle(\"METEOR distribution\")\n",
    "pMeteor\n"
   ],
   "id": "2fd6e15c2e15a5ab"
  },
  {
   "metadata": {},
   "cell_type": "code",
   "outputs": [],
   "execution_count": null,
   "source": [
    "val pF1 = ggplot(df) + geomHistogram { x = \"TokenF1\" } + ggtitle(\"TokenF1 distribution\")\n",
    "pF1\n"
   ],
   "id": "dfa4ec4a382c63eb"
  },
  {
   "metadata": {},
   "cell_type": "code",
   "outputs": [],
   "execution_count": null,
   "source": [
    "val pChrF = ggplot(df) + geomHistogram { x = \"chrF\" } + ggtitle(\"chrF distribution\")\n",
    "pChrF\n"
   ],
   "id": "111c9f0c1e8830c5"
  },
  {
   "metadata": {},
   "cell_type": "markdown",
   "source": [
    "## Scatter plots\n",
    "Relationships between metrics.\n"
   ],
   "id": "13108dbfe6f58fbc"
  },
  {
   "metadata": {},
   "cell_type": "code",
   "outputs": [],
   "execution_count": null,
   "source": [
    "val dfXY = mapOf(\n",
    "    \"BLEU\" to df[\"BLEU\"]!!,\n",
    "    \"METEOR\" to df[\"METEOR\"]!!,\n",
    "    \"ROUGE_L\" to df[\"ROUGE_L\"]!!,\n",
    "    \"TokenF1\" to df[\"TokenF1\"]!!\n",
    ")\n",
    "val pMeteorVsBleu = ggplot(dfXY) + geomPoint { x = \"BLEU\"; y = \"METEOR\" } + ggtitle(\"METEOR vs BLEU\")\n",
    "pMeteorVsBleu\n"
   ],
   "id": "f6000627a21323e3"
  },
  {
   "metadata": {},
   "cell_type": "code",
   "outputs": [],
   "execution_count": null,
   "source": [
    "val pRougeVsBleu = ggplot(dfXY) + geomPoint { x = \"BLEU\"; y = \"ROUGE_L\" } + ggtitle(\"ROUGE-L vs BLEU\")\n",
    "pRougeVsBleu\n"
   ],
   "id": "628f777fe5d0f56"
  }
 ],
 "metadata": {},
 "nbformat": 4,
 "nbformat_minor": 5
}

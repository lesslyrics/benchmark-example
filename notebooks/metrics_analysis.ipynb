{
 "cells": [
  {
   "metadata": {},
   "cell_type": "markdown",
   "source": [
    "# Metrics Analysis\n",
    "This Kotlin notebook visualizes BLEU, ROUGE-L, METEOR, TokenF1, and chrF metrics from the CSV exported by the app.\n",
    "\n",
    "Instructions:\n",
    "1. Generate the CSV from the JSONL results: run the app with CSV mode. For example:\n",
    "   - From IDE: Run Main with program arguments: `--csv src/javabest_no_select.jsonl metrics.csv`\n",
    "   - Or from command line (if Gradle is set up): `./gradlew run --args=\"--csv src/javabest_no_select.jsonl metrics.csv\"`\n",
    "2. Place `metrics.csv` in the project root (or adjust the path below).\n"
   ],
   "id": "b5ae709147809202"
  },
  {
   "metadata": {},
   "cell_type": "code",
   "outputs": [],
   "execution_count": null,
   "source": [
    "// This cell loads the plotting library for Kotlin Notebook. If you run in Kotlin Jupyter, this enables Lets-Plot.\n",
    "%use lets-plot\n"
   ],
   "id": "5750896ff638aae0"
  },
  {
   "metadata": {},
   "cell_type": "code",
   "outputs": [],
   "execution_count": null,
   "source": [
    "import java.io.File\n",
    "\n",
    "data class Row(val index:Int, val BLEU:Double, val ROUGE_L:Double, val METEOR:Double, val TokenF1:Double, val chrF:Double)\n",
    "\n",
    "fun readCsv(path:String): List<Row> {\n",
    "    val f = File(path)\n",
    "    require(f.exists()) { \"CSV not found at: $path. Please run the app in --csv mode to generate it.\" }\n",
    "    return f.readLines().drop(1)\n",
    "        .filter { it.isNotBlank() }\n",
    "        .map { line ->\n",
    "            val parts = line.split(',')\n",
    "            Row(parts[0].toInt(), parts[1].toDouble(), parts[2].toDouble(), parts[3].toDouble(), parts[4].toDouble(), parts[5].toDouble())\n",
    "        }\n",
    "}\n",
    "\n",
    "val csvPath = \"metrics.csv\" // change if needed, e.g., \"src/metrics.csv\"\n",
    "val rows = readCsv(csvPath)\n",
    "println(\"Loaded ${rows.size} rows from $csvPath\")\n"
   ],
   "id": "c0fb39083d10f689"
  },
  {
   "metadata": {},
   "cell_type": "code",
   "outputs": [],
   "execution_count": null,
   "source": [
    "import org.jetbrains.letsPlot.*\n",
    "import org.jetbrains.letsPlot.geom.*\n",
    "import org.jetbrains.letsPlot.label.*\n",
    "import org.jetbrains.letsPlot.themes.*\n",
    "\n",
    "val df = mapOf(\n",
    "    \"BLEU\" to rows.map { it.BLEU },\n",
    "    \"ROUGE_L\" to rows.map { it.ROUGE_L },\n",
    "    \"METEOR\" to rows.map { it.METEOR },\n",
    "    \"TokenF1\" to rows.map { it.TokenF1 },\n",
    "    \"chrF\" to rows.map { it.chrF }\n",
    ")\n",
    "\n",
    "fun avg(xs: List<Double>) = if (xs.isEmpty()) 0.0 else xs.sum() / xs.size\n",
    "println(\"Averages:\\nBLEU=${avg(df[\"BLEU\"]!!)}\\nROUGE_L=${avg(df[\"ROUGE_L\"]!!)}\\nMETEOR=${avg(df[\"METEOR\"]!!)}\\nTokenF1=${avg(df[\"TokenF1\"]!!)}\\nchrF=${avg(df[\"chrF\"]!!)}\")\n"
   ],
   "id": "4be3a9f8766ea57c"
  },
  {
   "metadata": {},
   "cell_type": "markdown",
   "source": [
    "## Histograms\n",
    "Run each cell to see the distributions.\n"
   ],
   "id": "3a5040fe365b2770"
  },
  {
   "metadata": {},
   "cell_type": "code",
   "outputs": [],
   "execution_count": null,
   "source": [
    "val pBleu = ggplot(df) + geomHistogram { x = \"BLEU\" } + ggtitle(\"BLEU distribution\")\n",
    "pBleu\n"
   ],
   "id": "64c00c656ba6b03c"
  },
  {
   "metadata": {},
   "cell_type": "code",
   "outputs": [],
   "execution_count": null,
   "source": [
    "val pRouge = ggplot(df) + geomHistogram { x = \"ROUGE_L\" } + ggtitle(\"ROUGE-L distribution\")\n",
    "pRouge\n"
   ],
   "id": "391d45c3a96e7b56"
  },
  {
   "metadata": {},
   "cell_type": "code",
   "outputs": [],
   "execution_count": null,
   "source": [
    "val pMeteor = ggplot(df) + geomHistogram { x = \"METEOR\" } + ggtitle(\"METEOR distribution\")\n",
    "pMeteor\n"
   ],
   "id": "4019ed8accd85fbc"
  },
  {
   "metadata": {},
   "cell_type": "code",
   "outputs": [],
   "execution_count": null,
   "source": [
    "val pF1 = ggplot(df) + geomHistogram { x = \"TokenF1\" } + ggtitle(\"TokenF1 distribution\")\n",
    "pF1\n"
   ],
   "id": "1f2180a867b94d81"
  },
  {
   "metadata": {},
   "cell_type": "code",
   "outputs": [],
   "execution_count": null,
   "source": [
    "val pChrF = ggplot(df) + geomHistogram { x = \"chrF\" } + ggtitle(\"chrF distribution\")\n",
    "pChrF\n"
   ],
   "id": "fc9a6b8a06b2800c"
  },
  {
   "metadata": {},
   "cell_type": "markdown",
   "source": [
    "## Scatter plots\n",
    "Relationships between metrics.\n"
   ],
   "id": "28c8ceafe549a30c"
  },
  {
   "metadata": {},
   "cell_type": "code",
   "outputs": [],
   "execution_count": null,
   "source": [
    "val dfXY = mapOf(\n",
    "    \"BLEU\" to df[\"BLEU\"]!!,\n",
    "    \"METEOR\" to df[\"METEOR\"]!!,\n",
    "    \"ROUGE_L\" to df[\"ROUGE_L\"]!!,\n",
    "    \"TokenF1\" to df[\"TokenF1\"]!!\n",
    ")\n",
    "val pMeteorVsBleu = ggplot(dfXY) + geomPoint { x = \"BLEU\"; y = \"METEOR\" } + ggtitle(\"METEOR vs BLEU\")\n",
    "pMeteorVsBleu\n"
   ],
   "id": "7ea68f9b6c943515"
  },
  {
   "metadata": {},
   "cell_type": "code",
   "outputs": [],
   "execution_count": null,
   "source": [
    "val pRougeVsBleu = ggplot(dfXY) + geomPoint { x = \"BLEU\"; y = \"ROUGE_L\" } + ggtitle(\"ROUGE-L vs BLEU\")\n",
    "pRougeVsBleu\n"
   ],
   "id": "9be752a4dc02dd6f"
  }
 ],
 "metadata": {},
 "nbformat": 4,
 "nbformat_minor": 5
}
